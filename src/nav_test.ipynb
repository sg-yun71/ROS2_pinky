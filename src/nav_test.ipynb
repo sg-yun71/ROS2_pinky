{
 "cells": [
  {
   "cell_type": "code",
   "execution_count": 3,
   "metadata": {},
   "outputs": [],
   "source": [
    "from nav2_simple_commander.robot_navigator import BasicNavigator\n",
    "import rclpy\n",
    "\n",
    "rclpy.init()"
   ]
  },
  {
   "cell_type": "code",
   "execution_count": 5,
   "metadata": {},
   "outputs": [
    {
     "name": "stderr",
     "output_type": "stream",
     "text": [
      "[INFO] [1736476834.858705917] [basic_navigator]: Nav2 is ready for use!\n"
     ]
    }
   ],
   "source": [
    "nav = BasicNavigator()\n",
    "nav.waitUntilNav2Active()"
   ]
  },
  {
   "cell_type": "code",
   "execution_count": 9,
   "metadata": {},
   "outputs": [],
   "source": [
    "from geometry_msgs.msg import PoseStamped\n",
    "\n",
    "goal_pose = PoseStamped()\n",
    "goal_pose.header.frame_id = \"map\"\n",
    "goal_pose.pose.position.x = 0.3\n",
    "goal_pose.pose.position.y = 0.0"
   ]
  },
  {
   "cell_type": "code",
   "execution_count": 13,
   "metadata": {},
   "outputs": [],
   "source": [
    "def pretty_print_pose_stamped(pose_stamped: PoseStamped):\n",
    "    text = f\"\"\"PoseStamped {{ header {{\n",
    "    stamp {{\n",
    "        sec: {pose_stamped.header.stamp.sec}\n",
    "        nanosec: {pose_stamped.header.stamp.nanosec} }}\n",
    "        frame_id: {pose_stamped.header.frame_id}}}\n",
    "    pose {{\n",
    "        position{{\n",
    "            x: {pose_stamped.pose.position.x}\n",
    "            y: {pose_stamped.pose.position.y}\n",
    "            z: {pose_stamped.pose.position.z} }}\n",
    "        orientaion{{\n",
    "            x: {pose_stamped.pose.orientation.x}\n",
    "            y: {pose_stamped.pose.orientation.y}\n",
    "            z: {pose_stamped.pose.orientation.z}\n",
    "            w: {pose_stamped.pose.orientation.w} }} }} }} \"\"\"\n",
    "    \n",
    "    print(text)\n"
   ]
  },
  {
   "cell_type": "code",
   "execution_count": 14,
   "metadata": {},
   "outputs": [
    {
     "name": "stdout",
     "output_type": "stream",
     "text": [
      "PoseStamped { header {\n",
      "    stamp {\n",
      "        sec: 0\n",
      "        nanosec: 0 }\n",
      "        frame_id: map}\n",
      "    pose {\n",
      "        position{\n",
      "            x: 0.3\n",
      "            y: 0.0\n",
      "            z: 0.0 }\n",
      "        orientaion{\n",
      "            x: 0.0\n",
      "            y: 0.0\n",
      "            z: 0.0\n",
      "            w: 1.0 } } } \n"
     ]
    }
   ],
   "source": [
    "pretty_print_pose_stamped(goal_pose)"
   ]
  },
  {
   "cell_type": "code",
   "execution_count": 18,
   "metadata": {},
   "outputs": [
    {
     "name": "stderr",
     "output_type": "stream",
     "text": [
      "[INFO] [1736485606.508723759] [basic_navigator]: Navigating to goal: 0.3 0.0...\n"
     ]
    },
    {
     "data": {
      "text/plain": [
       "True"
      ]
     },
     "execution_count": 18,
     "metadata": {},
     "output_type": "execute_result"
    }
   ],
   "source": [
    "nav.goToPose(goal_pose)"
   ]
  },
  {
   "cell_type": "code",
   "execution_count": 19,
   "metadata": {},
   "outputs": [
    {
     "name": "stderr",
     "output_type": "stream",
     "text": [
      "[INFO] [1736487805.150448313] [basic_navigator]: Navigating to goal: 2.0 1.0...\n"
     ]
    },
    {
     "name": "stdout",
     "output_type": "stream",
     "text": [
      "Dist. remained: 2.43m\n",
      "Dist. remained: 2.33m\n",
      "Dist. remained: 2.23m\n",
      "Dist. remained: 2.10m\n",
      "Dist. remained: 2.03m\n",
      "Dist. remained: 1.88m\n",
      "Dist. remained: 1.73m\n",
      "Dist. remained: 1.65m\n",
      "Dist. remained: 1.55m\n",
      "Dist. remained: 1.45m\n",
      "Timeout!\n"
     ]
    },
    {
     "name": "stderr",
     "output_type": "stream",
     "text": [
      "[INFO] [1736487815.209650067] [basic_navigator]: Canceling current task.\n"
     ]
    }
   ],
   "source": [
    "from rclpy.duration import Duration\n",
    "\n",
    "goal_pose.pose.position.x = 2.0\n",
    "goal_pose.pose.position.y = 1.0\n",
    "nav.goToPose(goal_pose)\n",
    "\n",
    "i = 0\n",
    "while not nav.isTaskComplete():\n",
    "    i += 1\n",
    "    feedback = nav.getFeedback()\n",
    "    if feedback and i %10 == 0:\n",
    "        print('Dist. remained: ' + '{:.2f}'.format(feedback.distance_remaining) + 'm')\n",
    "\n",
    "    if Duration.from_msg(feedback.navigation_time) > Duration(seconds=10.0):\n",
    "        print('Timeout!')\n",
    "        nav.cancelTask()"
   ]
  },
  {
   "cell_type": "code",
   "execution_count": 21,
   "metadata": {},
   "outputs": [],
   "source": [
    "from geometry_msgs.msg import PoseWithCovarianceStamped\n",
    "\n",
    "def pretty_print_pose_with_covariance_stamped(pose_cov_stamped: PoseWithCovarianceStamped):\n",
    "    pose = pose_cov_stamped.pose.pose\n",
    "    covariance = pose_cov_stamped.pose.covariance\n",
    "\n",
    "    text = f\"\"\"PoseWithCovarianceStamped {{ \n",
    "    pose {{\n",
    "        position {{\n",
    "            x: {pose.position.x}\n",
    "            y: {pose.position.y}\n",
    "            z: {pose.position.z} }}\n",
    "        orientation {{\n",
    "            x: {pose.orientation.x}\n",
    "            y: {pose.orientation.y}\n",
    "            z: {pose.orientation.z}\n",
    "            w: {pose.orientation.w} }} }}\n",
    "    covariance: [\n",
    "        {', '.join(f'{c:.3f}' for c in covariance)}] }} \"\"\"\n",
    "    \n",
    "    print(text)\n"
   ]
  },
  {
   "cell_type": "code",
   "execution_count": 25,
   "metadata": {},
   "outputs": [],
   "source": [
    "pose_current = PoseWithCovarianceStamped()"
   ]
  },
  {
   "cell_type": "code",
   "execution_count": 26,
   "metadata": {},
   "outputs": [
    {
     "name": "stdout",
     "output_type": "stream",
     "text": [
      "PoseWithCovarianceStamped { \n",
      "    pose {\n",
      "        position {\n",
      "            x: 0.0\n",
      "            y: 0.0\n",
      "            z: 0.0 }\n",
      "        orientation {\n",
      "            x: 0.0\n",
      "            y: 0.0\n",
      "            z: 0.0\n",
      "            w: 1.0 } }\n",
      "    covariance: [\n",
      "        0.000, 0.000, 0.000, 0.000, 0.000, 0.000, 0.000, 0.000, 0.000, 0.000, 0.000, 0.000, 0.000, 0.000, 0.000, 0.000, 0.000, 0.000, 0.000, 0.000, 0.000, 0.000, 0.000, 0.000, 0.000, 0.000, 0.000, 0.000, 0.000, 0.000, 0.000, 0.000, 0.000, 0.000, 0.000, 0.000] } \n"
     ]
    }
   ],
   "source": [
    "pretty_print_pose_with_covariance_stamped(pose_current)"
   ]
  },
  {
   "cell_type": "code",
   "execution_count": 27,
   "metadata": {},
   "outputs": [
    {
     "data": {
      "text/plain": [
       "geometry_msgs.msg.Point(x=0.0, y=0.0, z=0.0)"
      ]
     },
     "execution_count": 27,
     "metadata": {},
     "output_type": "execute_result"
    }
   ],
   "source": [
    "pose_current.pose.pose.position"
   ]
  },
  {
   "cell_type": "code",
   "execution_count": 28,
   "metadata": {},
   "outputs": [
    {
     "data": {
      "text/plain": [
       "geometry_msgs.msg.Quaternion(x=0.0, y=0.0, z=0.0, w=1.0)"
      ]
     },
     "execution_count": 28,
     "metadata": {},
     "output_type": "execute_result"
    }
   ],
   "source": [
    "pose_current.pose.pose.orientation"
   ]
  },
  {
   "cell_type": "code",
   "execution_count": 29,
   "metadata": {},
   "outputs": [
    {
     "data": {
      "text/plain": [
       "array([0., 0., 0., 0., 0., 0., 0., 0., 0., 0., 0., 0., 0., 0., 0., 0., 0.,\n",
       "       0., 0., 0., 0., 0., 0., 0., 0., 0., 0., 0., 0., 0., 0., 0., 0., 0.,\n",
       "       0., 0.])"
      ]
     },
     "execution_count": 29,
     "metadata": {},
     "output_type": "execute_result"
    }
   ],
   "source": [
    "pose_current.pose.covariance"
   ]
  },
  {
   "cell_type": "code",
   "execution_count": 30,
   "metadata": {},
   "outputs": [],
   "source": [
    "pose_node = rclpy.create_node('sub_test')\n",
    "\n",
    "def callback(data):\n",
    "    print('===')\n",
    "    print(data.pose.pose.position)\n",
    "    print(data.pose.pose.orientation)"
   ]
  },
  {
   "cell_type": "code",
   "execution_count": 31,
   "metadata": {},
   "outputs": [
    {
     "data": {
      "text/plain": [
       "<rclpy.subscription.Subscription at 0x7f9d29f42f20>"
      ]
     },
     "execution_count": 31,
     "metadata": {},
     "output_type": "execute_result"
    }
   ],
   "source": [
    "pose_node.create_subscription(PoseWithCovarianceStamped, '/amcl_pose', callback, 10)"
   ]
  },
  {
   "cell_type": "code",
   "execution_count": 32,
   "metadata": {},
   "outputs": [],
   "source": [
    "rclpy.spin_once(pose_node)"
   ]
  },
  {
   "cell_type": "code",
   "execution_count": 34,
   "metadata": {},
   "outputs": [
    {
     "name": "stdout",
     "output_type": "stream",
     "text": [
      "PoseWithCovarianceStamped { \n",
      "    pose {\n",
      "        position {\n",
      "            x: 0.0\n",
      "            y: 0.0\n",
      "            z: 0.0 }\n",
      "        orientation {\n",
      "            x: 0.0\n",
      "            y: 0.0\n",
      "            z: 0.0\n",
      "            w: 1.0 } }\n",
      "    covariance: [\n",
      "        0.000, 0.000, 0.000, 0.000, 0.000, 0.000, 0.000, 0.000, 0.000, 0.000, 0.000, 0.000, 0.000, 0.000, 0.000, 0.000, 0.000, 0.000, 0.000, 0.000, 0.000, 0.000, 0.000, 0.000, 0.000, 0.000, 0.000, 0.000, 0.000, 0.000, 0.000, 0.000, 0.000, 0.000, 0.000, 0.000] } \n"
     ]
    }
   ],
   "source": [
    "pose_current = PoseWithCovarianceStamped()\n",
    "pretty_print_pose_with_covariance_stamped(pose_current)"
   ]
  },
  {
   "cell_type": "code",
   "execution_count": 35,
   "metadata": {},
   "outputs": [],
   "source": [
    "pose_node = rclpy.create_node('sub_pose')\n",
    "\n",
    "def callback(data):\n",
    "    global pose_current\n",
    "    pose_current = data\n",
    "    pretty_print_pose_with_covariance_stamped(pose_current)"
   ]
  },
  {
   "cell_type": "code",
   "execution_count": 36,
   "metadata": {},
   "outputs": [
    {
     "data": {
      "text/plain": [
       "<rclpy.subscription.Subscription at 0x7f9d29eaf130>"
      ]
     },
     "execution_count": 36,
     "metadata": {},
     "output_type": "execute_result"
    }
   ],
   "source": [
    "pose_node.create_subscription(PoseWithCovarianceStamped, '/amcl_pose', callback, 10)"
   ]
  },
  {
   "cell_type": "code",
   "execution_count": 37,
   "metadata": {},
   "outputs": [],
   "source": [
    "from tf_transformations import euler_from_quaternion\n",
    "\n",
    "def quaternion_to_euler(quaternion):\n",
    "    orientation_list = [quaternion.x, quaternion.y, quaternion.z, quaternion.w]\n",
    "    (roll, pitch, yaw) = euler_from_quaternion(orientation_list)\n",
    "    return roll, pitch, yaw"
   ]
  },
  {
   "cell_type": "code",
   "execution_count": 38,
   "metadata": {},
   "outputs": [
    {
     "name": "stdout",
     "output_type": "stream",
     "text": [
      "=======================================\n",
      "Roll: 0.0, Pitch: -0.0, Yaw: 0.0\n"
     ]
    }
   ],
   "source": [
    "rclpy.spin_once(pose_node)\n",
    "\n",
    "quaternion = pose_current.pose.pose.orientation\n",
    "roll, pitch, yaw = quaternion_to_euler(quaternion)\n",
    "print(\"=======================================\")\n",
    "print(f\"Roll: {roll}, Pitch: {pitch}, Yaw: {yaw}\")"
   ]
  },
  {
   "cell_type": "code",
   "execution_count": null,
   "metadata": {},
   "outputs": [],
   "source": []
  }
 ],
 "metadata": {
  "kernelspec": {
   "display_name": "Python 3",
   "language": "python",
   "name": "python3"
  },
  "language_info": {
   "codemirror_mode": {
    "name": "ipython",
    "version": 3
   },
   "file_extension": ".py",
   "mimetype": "text/x-python",
   "name": "python",
   "nbconvert_exporter": "python",
   "pygments_lexer": "ipython3",
   "version": "3.10.12"
  }
 },
 "nbformat": 4,
 "nbformat_minor": 2
}
